{
 "cells": [
  {
   "cell_type": "code",
   "execution_count": null,
   "metadata": {},
   "outputs": [
    {
     "name": "stderr",
     "output_type": "stream",
     "text": [
      "INFO:root:Using MoXing-v1.13.0-04f86dc7\n",
      "INFO:root:Using OBS-Python-SDK-3.1.2\n",
      "INFO:root:Listing OBS: 1000\n",
      "INFO:root:Listing OBS: 2000\n",
      "INFO:root:Listing OBS: 3000\n",
      "INFO:root:Listing OBS: 4000\n",
      "INFO:root:Listing OBS: 5000\n",
      "INFO:root:Listing OBS: 6000\n"
     ]
    }
   ],
   "source": [
    "from main_1Ch import *\n",
    "main()"
   ]
  },
  {
   "cell_type": "code",
   "execution_count": null,
   "metadata": {},
   "outputs": [],
   "source": [
    "import moxing as mox\n"
   ]
  },
  {
   "cell_type": "code",
   "execution_count": 1,
   "metadata": {},
   "outputs": [
    {
     "name": "stderr",
     "output_type": "stream",
     "text": [
      "INFO:root:Using MoXing-v1.13.0-04f86dc7\n",
      "INFO:root:Using OBS-Python-SDK-3.1.2\n"
     ]
    },
    {
     "data": {
      "text/plain": [
       "array([[0., 0.],\n",
       "       [0., 1.],\n",
       "       [1., 1.],\n",
       "       [1., 0.]])"
      ]
     },
     "execution_count": 1,
     "metadata": {},
     "output_type": "execute_result"
    }
   ],
   "source": [
    "from main_1Ch import *\n",
    "qam_demod([[-1+1j,-1-1j],[1-1j,1+1j]])"
   ]
  },
  {
   "cell_type": "code",
   "execution_count": null,
   "metadata": {
    "scrolled": true
   },
   "outputs": [
    {
     "name": "stderr",
     "output_type": "stream",
     "text": [
      "INFO:root:Using MoXing-v1.13.0-04f86dc7\n",
      "INFO:root:Using OBS-Python-SDK-3.1.2\n"
     ]
    },
    {
     "name": "stdout",
     "output_type": "stream",
     "text": [
      "WARNING:tensorflow:From /home/ma-user/anaconda3/envs/TensorFlow-1.13.1/lib/python3.6/site-packages/tensorflow/python/ops/resource_variable_ops.py:435: colocate_with (from tensorflow.python.framework.ops) is deprecated and will be removed in a future version.\n",
      "Instructions for updating:\n",
      "Colocations handled automatically by placer.\n"
     ]
    },
    {
     "name": "stderr",
     "output_type": "stream",
     "text": [
      "WARNING:tensorflow:From /home/ma-user/anaconda3/envs/TensorFlow-1.13.1/lib/python3.6/site-packages/tensorflow/python/ops/resource_variable_ops.py:435: colocate_with (from tensorflow.python.framework.ops) is deprecated and will be removed in a future version.\n",
      "Instructions for updating:\n",
      "Colocations handled automatically by placer.\n"
     ]
    },
    {
     "name": "stdout",
     "output_type": "stream",
     "text": [
      "__________________________________________________________________________________________________\n",
      "Layer (type)                    Output Shape         Param #     Connected to                     \n",
      "==================================================================================================\n",
      "input_1 (InputLayer)            (None, 1, 360, 12)   0                                            \n",
      "__________________________________________________________________________________________________\n",
      "conv2d (Conv2D)                 (None, 1, 360, 64)   832         input_1[0][0]                    \n",
      "__________________________________________________________________________________________________\n",
      "conv2d_1 (Conv2D)               (None, 1, 360, 32)   2080        conv2d[0][0]                     \n",
      "__________________________________________________________________________________________________\n",
      "conv2d_2 (Conv2D)               (None, 1, 360, 32)   1056        conv2d_1[0][0]                   \n",
      "__________________________________________________________________________________________________\n",
      "conv2d_3 (Conv2D)               (None, 1, 360, 32)   1056        conv2d_2[0][0]                   \n",
      "__________________________________________________________________________________________________\n",
      "conv2d_4 (Conv2D)               (None, 1, 360, 32)   1056        conv2d_3[0][0]                   \n",
      "__________________________________________________________________________________________________\n",
      "conv2d_5 (Conv2D)               (None, 1, 360, 32)   1056        conv2d_4[0][0]                   \n",
      "__________________________________________________________________________________________________\n",
      "conv2d_6 (Conv2D)               (None, 1, 360, 12)   396         conv2d_5[0][0]                   \n",
      "__________________________________________________________________________________________________\n",
      "add (Add)                       (None, 1, 360, 12)   0           input_1[0][0]                    \n",
      "                                                                 conv2d_6[0][0]                   \n",
      "==================================================================================================\n",
      "Total params: 7,532\n",
      "Trainable params: 7,532\n",
      "Non-trainable params: 0\n",
      "__________________________________________________________________________________________________\n"
     ]
    },
    {
     "name": "stderr",
     "output_type": "stream",
     "text": [
      "INFO:root:Listing OBS: 1000\n",
      "INFO:root:Listing OBS: 2000\n",
      "INFO:root:Listing OBS: 3000\n",
      "INFO:root:Listing OBS: 4000\n",
      "INFO:root:Listing OBS: 5000\n",
      "INFO:root:Listing OBS: 6000\n"
     ]
    },
    {
     "name": "stdout",
     "output_type": "stream",
     "text": [
      "> /home/ma-user/work/main_1Ch.py(191)calc_ber()\n",
      "-> kMem = 0\n",
      "(Pdb) Tri\n",
      "0\n",
      "(Pdb) continue\n",
      "Matched Frame Index 1; Frame#1/744; Tri:1/12: BER = 0.000000e+00\n",
      "> /home/ma-user/work/main_1Ch.py(183)calc_ber()\n",
      "-> pdb.set_trace()\n",
      "(Pdb) continue\n",
      "Matched Frame Index 1; Frame#1/744; Tri:2/12: BER = 0.000000e+00\n",
      "> /home/ma-user/work/main_1Ch.py(191)calc_ber()\n",
      "-> kMem = 0\n",
      "(Pdb) continue\n",
      "Matched Frame Index 1; Frame#1/744; Tri:3/12: BER = 0.000000e+00\n",
      "> /home/ma-user/work/main_1Ch.py(183)calc_ber()\n",
      "-> pdb.set_trace()\n",
      "(Pdb) continue\n",
      "Matched Frame Index 1; Frame#1/744; Tri:4/12: BER = 0.000000e+00\n",
      "> /home/ma-user/work/main_1Ch.py(191)calc_ber()\n",
      "-> kMem = 0\n",
      "(Pdb) continue\n",
      "Matched Frame Index 1; Frame#1/744; Tri:5/12: BER = 0.000000e+00\n",
      "> /home/ma-user/work/main_1Ch.py(183)calc_ber()\n",
      "-> pdb.set_trace()\n",
      "(Pdb) continue\n",
      "Matched Frame Index 1; Frame#1/744; Tri:6/12: BER = 0.000000e+00\n",
      "> /home/ma-user/work/main_1Ch.py(191)calc_ber()\n",
      "-> kMem = 0\n",
      "(Pdb) continue\n",
      "Matched Frame Index 1; Frame#1/744; Tri:7/12: BER = 0.000000e+00\n",
      "> /home/ma-user/work/main_1Ch.py(183)calc_ber()\n",
      "-> pdb.set_trace()\n",
      "(Pdb) continue\n",
      "Matched Frame Index 1; Frame#1/744; Tri:8/12: BER = 0.000000e+00\n",
      "> /home/ma-user/work/main_1Ch.py(191)calc_ber()\n",
      "-> kMem = 0\n",
      "(Pdb) continue\n",
      "Matched Frame Index 1; Frame#1/744; Tri:9/12: BER = 0.000000e+00\n",
      "> /home/ma-user/work/main_1Ch.py(183)calc_ber()\n",
      "-> pdb.set_trace()\n",
      "(Pdb) continue\n",
      "Matched Frame Index 1; Frame#1/744; Tri:10/12: BER = 0.000000e+00\n",
      "> /home/ma-user/work/main_1Ch.py(191)calc_ber()\n",
      "-> kMem = 0\n",
      "(Pdb) continue\n",
      "Matched Frame Index 1; Frame#1/744; Tri:11/12: BER = 0.000000e+00\n",
      "> /home/ma-user/work/main_1Ch.py(183)calc_ber()\n",
      "-> pdb.set_trace()\n",
      "(Pdb) continue\n",
      "Matched Frame Index 7; Frame#1/744; Tri:12/12: BER = 4.961538e-01\n",
      "> /home/ma-user/work/main_1Ch.py(191)calc_ber()\n",
      "-> kMem = 0\n",
      "(Pdb) fut[Tri * 2 : 52 + Tri * 2,:,Tri]\n",
      "array([[ 1.+1.j,  1.+1.j,  1.+1.j, ..., -1.+1.j, -1.-1.j, -1.-1.j],\n",
      "       [-1.+1.j, -1.+1.j, -1.+1.j, ...,  1.-1.j, -1.-1.j,  1.-1.j],\n",
      "       [-1.+1.j, -1.+1.j, -1.-1.j, ..., -1.-1.j,  1.-1.j, -1.-1.j],\n",
      "       ...,\n",
      "       [ 1.+1.j, -1.+1.j, -1.+1.j, ...,  1.-1.j,  1.+1.j, -1.+1.j],\n",
      "       [ 1.-1.j,  1.+1.j,  1.-1.j, ...,  1.+1.j,  1.+1.j, -1.+1.j],\n",
      "       [ 1.-1.j, -1.+1.j,  1.-1.j, ...,  1.-1.j,  1.-1.j,  1.-1.j]],\n",
      "      dtype=complex64)\n"
     ]
    }
   ],
   "source": [
    "%matplotlib inline\n",
    "from main_1Ch import *\n",
    "model_validation(data_path = r's3://obs-fmf-eq/complete_frame', chkpt_path =  r's3://obs-fmf-eq/model/2019-9-25/cp-2000.ckpt', frame_idx = [1])"
   ]
  },
  {
   "cell_type": "code",
   "execution_count": 3,
   "metadata": {},
   "outputs": [
    {
     "name": "stdout",
     "output_type": "stream",
     "text": [
      "finished\n"
     ]
    }
   ],
   "source": [
    "import moxing as mox\n",
    "mox.file.copy_parallel('/home/ma-user/work', 's3://obs-fmf-eq/code')\n",
    "print('finished')"
   ]
  },
  {
   "cell_type": "code",
   "execution_count": null,
   "metadata": {},
   "outputs": [],
   "source": []
  }
 ],
 "metadata": {
  "kernelspec": {
   "display_name": "TensorFlow-1.13.1",
   "language": "python",
   "name": "tensorflow-1.13.1"
  },
  "language_info": {
   "codemirror_mode": {
    "name": "ipython",
    "version": 3
   },
   "file_extension": ".py",
   "mimetype": "text/x-python",
   "name": "python",
   "nbconvert_exporter": "python",
   "pygments_lexer": "ipython3",
   "version": "3.6.4"
  }
 },
 "nbformat": 4,
 "nbformat_minor": 2
}
